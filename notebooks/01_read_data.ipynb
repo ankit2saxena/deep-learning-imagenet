{
 "cells": [
  {
   "cell_type": "code",
   "execution_count": null,
   "metadata": {},
   "outputs": [],
   "source": [
    "# Basic Imports\n",
    "import os\n",
    "import sys\n",
    "import numpy as np\n",
    "import pandas as pd\n",
    "import pickle\n",
    "\n",
    "curr_path = \"../\"\n",
    "sys.path.append(curr_path)\n",
    "\n",
    "import matplotlib.pyplot as plt\n",
    "%matplotlib inline\n",
    "\n",
    "# Project Imports\n",
    "from config import path_config"
   ]
  },
  {
   "cell_type": "markdown",
   "metadata": {},
   "source": [
    "## Import Labels file"
   ]
  },
  {
   "cell_type": "code",
   "execution_count": null,
   "metadata": {},
   "outputs": [],
   "source": [
    "label_map_filename = curr_path + path_config.PROJECT_DATA_LABELS_FILENAME\n",
    "label_map = None\n",
    "\n",
    "if os.path.exists(label_map_filename):\n",
    "    with open(label_map_filename, 'r', encoding=\"utf-8\", newline=\"\\n\") as f:\n",
    "        label_map = f.read()\n",
    "else:\n",
    "    print(\"File Not Found: %s \", label_map_filename)"
   ]
  },
  {
   "cell_type": "code",
   "execution_count": null,
   "metadata": {},
   "outputs": [],
   "source": [
    "label_map"
   ]
  },
  {
   "cell_type": "markdown",
   "metadata": {},
   "source": [
    "## Import Train data"
   ]
  },
  {
   "cell_type": "code",
   "execution_count": null,
   "metadata": {
    "collapsed": true
   },
   "outputs": [],
   "source": [
    "def read_pickle(file):\n",
    "    with open(file, 'rb') as f:\n",
    "        images = pickle.load(f, errors='ignore')\n",
    "    return images"
   ]
  },
  {
   "cell_type": "code",
   "execution_count": null,
   "metadata": {},
   "outputs": [],
   "source": [
    "def load_dataset(curr_path, index):\n",
    "    data_file_path = curr_path + path_config.PROJECT_DATA_RAW_PATH + \"train/Imagenet32/train_data_batch_\" + str(index)\n",
    "    if os.path.exists(data_file_path):\n",
    "        images = read_pickle(data_file_path)\n",
    "    else:\n",
    "        print(\"File Not Found: %s\", data_file_path)\n",
    "        return False\n",
    "    \n",
    "    data = images[\"data\"]\n",
    "    labels = images[\"labels\"]\n",
    "    mean_images = images[\"mean\"]\n",
    "    \n",
    "    # Convert Labels from 1-1000 to 0-999 range\n",
    "    labels = [label - 1 for label in labels]\n",
    "    \n",
    "    # Based on the Paper\n",
    "    data = data / np.float32(255)\n",
    "    mean_images = mean_images / np.float32(255)\n",
    "    \n",
    "    # Dataset size\n",
    "    n_records = len(data)\n",
    "    \n",
    "    # data = data - mean_images\n",
    "    \n",
    "    # Image shape\n",
    "    img_size = int(np.sqrt(len(data[0]) / 3))\n",
    "    img_size_2 = int(img_size * img_size)\n",
    "    \n",
    "    X = np.dstack((data[:, :img_size_2], data[:, img_size_2:img_size_2*2], data[:, img_size_2*2:]))\n",
    "    X = X.reshape((n_records, img_size, img_size, 3))\n",
    "    \n",
    "    X_train = X[0: n_records, :, :, :]\n",
    "    y_train = labels[0: n_records]\n",
    "    \n",
    "    return X_train, y_train"
   ]
  },
  {
   "cell_type": "code",
   "execution_count": null,
   "metadata": {},
   "outputs": [],
   "source": [
    "images, labels = load_dataset(curr_path, 1)"
   ]
  },
  {
   "cell_type": "markdown",
   "metadata": {},
   "source": [
    "### Sample Image"
   ]
  },
  {
   "cell_type": "code",
   "execution_count": null,
   "metadata": {},
   "outputs": [],
   "source": [
    "plt.figure(figsize=(1, 1))\n",
    "plt.imshow(images[4])\n",
    "plt.show()"
   ]
  },
  {
   "cell_type": "code",
   "execution_count": null,
   "metadata": {},
   "outputs": [],
   "source": [
    "label_map[labels[0]]"
   ]
  },
  {
   "cell_type": "code",
   "execution_count": null,
   "metadata": {
    "collapsed": true
   },
   "outputs": [],
   "source": []
  }
 ],
 "metadata": {
  "kernelspec": {
   "display_name": "Python 3",
   "language": "python",
   "name": "python3"
  },
  "language_info": {
   "codemirror_mode": {
    "name": "ipython",
    "version": 3
   },
   "file_extension": ".py",
   "mimetype": "text/x-python",
   "name": "python",
   "nbconvert_exporter": "python",
   "pygments_lexer": "ipython3",
   "version": "3.6.3"
  }
 },
 "nbformat": 4,
 "nbformat_minor": 2
}
